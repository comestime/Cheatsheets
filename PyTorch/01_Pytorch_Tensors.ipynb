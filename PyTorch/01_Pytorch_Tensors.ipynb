{
 "cells": [
  {
   "cell_type": "markdown",
   "metadata": {},
   "source": [
    "# PyTorch Tensors"
   ]
  },
  {
   "cell_type": "code",
   "execution_count": 2,
   "metadata": {},
   "outputs": [],
   "source": [
    "import torch"
   ]
  },
  {
   "cell_type": "markdown",
   "metadata": {},
   "source": [
    "### Construct a vector w/ 3 entries and a 2 x 2 matrix"
   ]
  },
  {
   "cell_type": "code",
   "execution_count": 5,
   "metadata": {},
   "outputs": [
    {
     "name": "stdout",
     "output_type": "stream",
     "text": [
      "tensor([ 5.2000,  7.4000, -3.7000])\n",
      "tensor([[1., 2.],\n",
      "        [3., 4.]])\n"
     ]
    }
   ],
   "source": [
    "x = torch.Tensor([5.2, 7.4, -3.7])\n",
    "print (x)\n",
    "\n",
    "A = torch.Tensor([[1, 2], [3, 4]])\n",
    "print (A)"
   ]
  },
  {
   "cell_type": "markdown",
   "metadata": {},
   "source": [
    "### Construct a random 10 x 2 matrix, a all-zero 10 x 2 matrx, and a 5 x 2 x 2 random tensor"
   ]
  },
  {
   "cell_type": "code",
   "execution_count": 13,
   "metadata": {},
   "outputs": [
    {
     "name": "stdout",
     "output_type": "stream",
     "text": [
      "tensor([[0.9830, 0.4678],\n",
      "        [0.3419, 0.3918],\n",
      "        [0.5759, 0.6720],\n",
      "        [0.2561, 0.3461],\n",
      "        [0.3877, 0.7986],\n",
      "        [0.5487, 0.4546],\n",
      "        [0.0845, 0.1431],\n",
      "        [0.4031, 0.9482],\n",
      "        [0.1408, 0.1263],\n",
      "        [0.8252, 0.1803]])\n",
      "tensor([[0., 0.],\n",
      "        [0., 0.],\n",
      "        [0., 0.],\n",
      "        [0., 0.],\n",
      "        [0., 0.],\n",
      "        [0., 0.],\n",
      "        [0., 0.],\n",
      "        [0., 0.],\n",
      "        [0., 0.],\n",
      "        [0., 0.]])\n",
      "tensor([[[0.0983, 0.1155],\n",
      "         [0.4341, 0.0534],\n",
      "         [0.9220, 0.5694]],\n",
      "\n",
      "        [[0.2349, 0.6855],\n",
      "         [0.1230, 0.8714],\n",
      "         [0.4032, 0.1466]],\n",
      "\n",
      "        [[0.0153, 0.0198],\n",
      "         [0.2251, 0.3310],\n",
      "         [0.0970, 0.3222]],\n",
      "\n",
      "        [[0.8654, 0.4677],\n",
      "         [0.2503, 0.7893],\n",
      "         [0.6792, 0.8088]],\n",
      "\n",
      "        [[0.2485, 0.8528],\n",
      "         [0.4216, 0.5319],\n",
      "         [0.3497, 0.4622]]])\n"
     ]
    }
   ],
   "source": [
    "A = torch.rand(10, 2)\n",
    "print (A)\n",
    "A = torch.zeros(10, 2)\n",
    "print (A)\n",
    "B = torch.rand(5, 3, 2)\n",
    "print (B)"
   ]
  },
  {
   "cell_type": "markdown",
   "metadata": {},
   "source": [
    "### Size and Dimension of a Tensor"
   ]
  },
  {
   "cell_type": "code",
   "execution_count": 14,
   "metadata": {},
   "outputs": [
    {
     "name": "stdout",
     "output_type": "stream",
     "text": [
      "3\n",
      "torch.Size([5, 3, 2])\n",
      "5\n",
      "3\n",
      "2\n"
     ]
    }
   ],
   "source": [
    "print (B.dim())\n",
    "print (B.size())\n",
    "print (B.size(0))\n",
    "print (B.size(1))\n",
    "print (B.size(2))"
   ]
  },
  {
   "cell_type": "markdown",
   "metadata": {},
   "source": [
    "### Adding and Multiplying Tensors"
   ]
  },
  {
   "cell_type": "code",
   "execution_count": 15,
   "metadata": {},
   "outputs": [
    {
     "name": "stdout",
     "output_type": "stream",
     "text": [
      "tensor([[0.2463, 0.8266],\n",
      "        [0.1004, 0.0629]])\n",
      "\n",
      "tensor([[0.5185, 0.9016],\n",
      "        [0.6821, 0.9384]])\n",
      "\n",
      "tensor([[1.0370, 1.8031],\n",
      "        [1.3643, 1.8769]])\n",
      "\n",
      "tensor([[1.2834, 2.6297],\n",
      "        [1.4647, 1.9398]])\n",
      "\n",
      "tensor([[0.1277, 0.7453],\n",
      "        [0.0685, 0.0591]])\n"
     ]
    }
   ],
   "source": [
    "A = torch.rand(2, 2)\n",
    "B = torch.rand(2, 2)\n",
    "\n",
    "C = 2 * B\n",
    "D = A + C\n",
    "E = A * B\n",
    "\n",
    "print(A)\n",
    "print('')\n",
    "print(B)\n",
    "print('')\n",
    "print(C)\n",
    "print('')\n",
    "print(D)\n",
    "print('')\n",
    "print(E)"
   ]
  },
  {
   "cell_type": "markdown",
   "metadata": {},
   "source": [
    "### Float / Integer Conversions"
   ]
  },
  {
   "cell_type": "code",
   "execution_count": 17,
   "metadata": {},
   "outputs": [
    {
     "name": "stdout",
     "output_type": "stream",
     "text": [
      "tensor([1.2000, 2.5000])\n",
      "torch.FloatTensor\n"
     ]
    }
   ],
   "source": [
    "x=torch.Tensor([1.2 , 2.5])\n",
    "print(x)\n",
    "print(x.type())"
   ]
  },
  {
   "cell_type": "code",
   "execution_count": 18,
   "metadata": {},
   "outputs": [
    {
     "name": "stdout",
     "output_type": "stream",
     "text": [
      "tensor([5, 6])\n",
      "torch.LongTensor\n"
     ]
    }
   ],
   "source": [
    "y=torch.LongTensor([5,6])\n",
    "print(y)\n",
    "print(y.type())"
   ]
  },
  {
   "cell_type": "code",
   "execution_count": 19,
   "metadata": {},
   "outputs": [
    {
     "name": "stdout",
     "output_type": "stream",
     "text": [
      "tensor([5., 6.])\n",
      "torch.FloatTensor\n"
     ]
    }
   ],
   "source": [
    "y=y.float()\n",
    "print(y)\n",
    "print(y.type())"
   ]
  },
  {
   "cell_type": "code",
   "execution_count": 20,
   "metadata": {},
   "outputs": [
    {
     "name": "stdout",
     "output_type": "stream",
     "text": [
      "tensor([1, 2])\n",
      "torch.LongTensor\n"
     ]
    }
   ],
   "source": [
    "x=x.long()\n",
    "print(x)\n",
    "print(x.type())"
   ]
  },
  {
   "cell_type": "markdown",
   "metadata": {},
   "source": [
    "### Other Constructors"
   ]
  },
  {
   "cell_type": "code",
   "execution_count": 21,
   "metadata": {},
   "outputs": [
    {
     "name": "stdout",
     "output_type": "stream",
     "text": [
      "tensor([0, 1, 2, 3, 4, 5, 6, 7, 8, 9])\n",
      "torch.LongTensor\n"
     ]
    }
   ],
   "source": [
    "x=torch.arange(10)\n",
    "print(x)\n",
    "print(x.type())"
   ]
  },
  {
   "cell_type": "code",
   "execution_count": 22,
   "metadata": {},
   "outputs": [
    {
     "name": "stdout",
     "output_type": "stream",
     "text": [
      "tensor([7, 1, 2, 0, 8, 3, 9, 4, 5, 6])\n",
      "torch.LongTensor\n"
     ]
    }
   ],
   "source": [
    "x=torch.randperm(10)\n",
    "print(x)\n",
    "print(x.type())"
   ]
  },
  {
   "cell_type": "code",
   "execution_count": null,
   "metadata": {},
   "outputs": [],
   "source": []
  }
 ],
 "metadata": {
  "kernelspec": {
   "display_name": "Python 3",
   "language": "python",
   "name": "python3"
  },
  "language_info": {
   "codemirror_mode": {
    "name": "ipython",
    "version": 3
   },
   "file_extension": ".py",
   "mimetype": "text/x-python",
   "name": "python",
   "nbconvert_exporter": "python",
   "pygments_lexer": "ipython3",
   "version": "3.6.3"
  }
 },
 "nbformat": 4,
 "nbformat_minor": 2
}
