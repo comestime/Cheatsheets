{
 "cells": [
  {
   "cell_type": "markdown",
   "metadata": {},
   "source": [
    "# PyTorch Module"
   ]
  },
  {
   "cell_type": "code",
   "execution_count": 2,
   "metadata": {},
   "outputs": [],
   "source": [
    "import torch\n",
    "import torch.nn as nn"
   ]
  },
  {
   "cell_type": "markdown",
   "metadata": {},
   "source": [
    "### Make a Linear Module that takes input of size 5 and return output of size 3"
   ]
  },
  {
   "cell_type": "code",
   "execution_count": 4,
   "metadata": {},
   "outputs": [
    {
     "name": "stdout",
     "output_type": "stream",
     "text": [
      "Linear(in_features=5, out_features=3, bias=True)\n"
     ]
    }
   ],
   "source": [
    "mod = nn.Linear(5, 3, bias = True)\n",
    "print (mod)"
   ]
  },
  {
   "cell_type": "markdown",
   "metadata": {},
   "source": [
    "### Make a random tensor of size 5 and feed it to the module"
   ]
  },
  {
   "cell_type": "code",
   "execution_count": 6,
   "metadata": {},
   "outputs": [
    {
     "name": "stdout",
     "output_type": "stream",
     "text": [
      "tensor([0.6526, 0.9009, 0.8940, 0.4229, 0.8283])\n"
     ]
    }
   ],
   "source": [
    "x = torch.rand(5)\n",
    "print (x)"
   ]
  },
  {
   "cell_type": "code",
   "execution_count": 7,
   "metadata": {},
   "outputs": [
    {
     "name": "stdout",
     "output_type": "stream",
     "text": [
      "tensor([-0.7936, -0.2648, -0.1926], grad_fn=<ThAddBackward>)\n"
     ]
    }
   ],
   "source": [
    "y = mod(x)\n",
    "print (y)"
   ]
  },
  {
   "cell_type": "code",
   "execution_count": 10,
   "metadata": {},
   "outputs": [
    {
     "name": "stdout",
     "output_type": "stream",
     "text": [
      "Parameter containing:\n",
      "tensor([[-0.2912, -0.4156, -0.1520,  0.3542,  0.0625],\n",
      "        [ 0.1347,  0.1585,  0.1163,  0.1289, -0.4435],\n",
      "        [ 0.3863, -0.3365, -0.1736,  0.1802, -0.0861]], requires_grad=True)\n"
     ]
    }
   ],
   "source": [
    "print (mod.weight)"
   ]
  },
  {
   "cell_type": "code",
   "execution_count": 11,
   "metadata": {},
   "outputs": [
    {
     "name": "stdout",
     "output_type": "stream",
     "text": [
      "Parameter containing:\n",
      "tensor([-0.2948, -0.2867,  0.0087], requires_grad=True)\n"
     ]
    }
   ],
   "source": [
    "print (mod.bias)"
   ]
  },
  {
   "cell_type": "markdown",
   "metadata": {},
   "source": [
    "### If we want to change the internal parameters of the module"
   ]
  },
  {
   "cell_type": "code",
   "execution_count": 12,
   "metadata": {},
   "outputs": [
    {
     "name": "stdout",
     "output_type": "stream",
     "text": [
      "Parameter containing:\n",
      "tensor([[ 0.0000,  1.0000,  2.0000,  0.3542,  0.0625],\n",
      "        [ 0.1347,  0.1585,  0.1163,  0.1289, -0.4435],\n",
      "        [ 0.3863, -0.3365, -0.1736,  0.1802, -0.0861]], grad_fn=<CopySlices>)\n"
     ]
    }
   ],
   "source": [
    "mod.weight[0, 0] = 0\n",
    "mod.weight[0, 1] = 1\n",
    "mod.weight[0, 2] = 2\n",
    "print (mod.weight)"
   ]
  },
  {
   "cell_type": "markdown",
   "metadata": {},
   "source": [
    "### A Linear Module without bias"
   ]
  },
  {
   "cell_type": "code",
   "execution_count": 14,
   "metadata": {},
   "outputs": [
    {
     "name": "stdout",
     "output_type": "stream",
     "text": [
      "Linear(in_features=5, out_features=3, bias=False)\n",
      "Parameter containing:\n",
      "tensor([[ 0.0272, -0.4360, -0.1218,  0.1081, -0.1776],\n",
      "        [ 0.1720, -0.1708, -0.0866,  0.1352, -0.1931],\n",
      "        [ 0.0923, -0.1571, -0.0887, -0.1592,  0.3676]], requires_grad=True)\n",
      "None\n"
     ]
    }
   ],
   "source": [
    "mod2 = nn.Linear(5, 3, bias = False)\n",
    "print (mod2)\n",
    "print (mod2.weight)\n",
    "print (mod2.bias)"
   ]
  }
 ],
 "metadata": {
  "kernelspec": {
   "display_name": "Python 3",
   "language": "python",
   "name": "python3"
  },
  "language_info": {
   "codemirror_mode": {
    "name": "ipython",
    "version": 3
   },
   "file_extension": ".py",
   "mimetype": "text/x-python",
   "name": "python",
   "nbconvert_exporter": "python",
   "pygments_lexer": "ipython3",
   "version": "3.6.3"
  }
 },
 "nbformat": 4,
 "nbformat_minor": 2
}
