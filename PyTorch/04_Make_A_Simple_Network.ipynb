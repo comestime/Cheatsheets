{
 "cells": [
  {
   "cell_type": "code",
   "execution_count": 1,
   "metadata": {},
   "outputs": [],
   "source": [
    "import torch\n",
    "import torch.nn as nn\n",
    "import torch.nn.functional as F"
   ]
  },
  {
   "cell_type": "markdown",
   "metadata": {},
   "source": [
    "### In PyTorch, networks are always defined via classes"
   ]
  },
  {
   "cell_type": "code",
   "execution_count": 2,
   "metadata": {},
   "outputs": [],
   "source": [
    "class two_layer_net(nn.Module):\n",
    "\n",
    "    def __init__(self, input_size, hidden_size, output_size):\n",
    "        super(two_layer_net , self).__init__()\n",
    "        \n",
    "        self.layer1 = nn.Linear( input_size, hidden_size , bias=True)\n",
    "        self.layer2 = nn.Linear( hidden_size, output_size , bias=True)        \n",
    "        \n",
    "    def forward(self, x):\n",
    "        \n",
    "        x = self.layer1(x)\n",
    "        x = F.relu(x)\n",
    "        x = self.layer2(x)\n",
    "        p = F.softmax(x, dim=0)\n",
    "        \n",
    "        return p"
   ]
  },
  {
   "cell_type": "markdown",
   "metadata": {},
   "source": [
    "### Create an instance with: \n",
    "* Input Size = 2\n",
    "* Hidden Size = 5\n",
    "* Output Size = 3"
   ]
  },
  {
   "cell_type": "code",
   "execution_count": 20,
   "metadata": {},
   "outputs": [
    {
     "name": "stdout",
     "output_type": "stream",
     "text": [
      "two_layer_net(\n",
      "  (layer1): Linear(in_features=2, out_features=5, bias=True)\n",
      "  (layer2): Linear(in_features=5, out_features=3, bias=True)\n",
      ")\n"
     ]
    }
   ],
   "source": [
    "net = two_layer_net(2, 5, 3)\n",
    "print (net)"
   ]
  },
  {
   "cell_type": "markdown",
   "metadata": {},
   "source": [
    "### All parameters of a network can be accessed by net.parameters()"
   ]
  },
  {
   "cell_type": "code",
   "execution_count": 21,
   "metadata": {},
   "outputs": [
    {
     "name": "stdout",
     "output_type": "stream",
     "text": [
      "[Parameter containing:\n",
      "tensor([[-0.3272, -0.2431],\n",
      "        [-0.1594, -0.0526],\n",
      "        [-0.2624, -0.5536],\n",
      "        [ 0.2884,  0.6905],\n",
      "        [ 0.3324,  0.2276]], requires_grad=True), Parameter containing:\n",
      "tensor([ 0.6588, -0.4061,  0.5958, -0.3426,  0.0707], requires_grad=True), Parameter containing:\n",
      "tensor([[-0.0167, -0.1247, -0.3945,  0.1250, -0.2837],\n",
      "        [ 0.4059,  0.3622, -0.0934, -0.2736,  0.4210],\n",
      "        [-0.4255,  0.2218, -0.1033, -0.0213,  0.2958]], requires_grad=True), Parameter containing:\n",
      "tensor([-0.2718,  0.1303,  0.1983], requires_grad=True)]\n"
     ]
    }
   ],
   "source": [
    "list_of_param = list(net.parameters())\n",
    "print (list_of_param)"
   ]
  },
  {
   "cell_type": "markdown",
   "metadata": {},
   "source": [
    "### We can access the first module as follow:"
   ]
  },
  {
   "cell_type": "code",
   "execution_count": 22,
   "metadata": {},
   "outputs": [
    {
     "name": "stdout",
     "output_type": "stream",
     "text": [
      "Linear(in_features=2, out_features=5, bias=True)\n",
      "Parameter containing:\n",
      "tensor([[-0.3272, -0.2431],\n",
      "        [-0.1594, -0.0526],\n",
      "        [-0.2624, -0.5536],\n",
      "        [ 0.2884,  0.6905],\n",
      "        [ 0.3324,  0.2276]], requires_grad=True)\n",
      "Parameter containing:\n",
      "tensor([ 0.6588, -0.4061,  0.5958, -0.3426,  0.0707], requires_grad=True)\n"
     ]
    }
   ],
   "source": [
    "print (net.layer1)\n",
    "print (net.layer1.weight)\n",
    "print (net.layer1.bias)"
   ]
  },
  {
   "cell_type": "markdown",
   "metadata": {},
   "source": [
    "### Change the weights from layer 1"
   ]
  },
  {
   "cell_type": "code",
   "execution_count": 23,
   "metadata": {},
   "outputs": [
    {
     "name": "stdout",
     "output_type": "stream",
     "text": [
      "Parameter containing:\n",
      "tensor([[ 1.0000,  2.0000],\n",
      "        [-0.1594, -0.0526],\n",
      "        [-0.2624, -0.5536],\n",
      "        [ 0.2884,  0.6905],\n",
      "        [ 0.3324,  0.2276]], grad_fn=<CopySlices>)\n"
     ]
    }
   ],
   "source": [
    "net.layer1.weight[0, 0] = 1\n",
    "net.layer1.weight[0, 1] = 2\n",
    "print (net.layer1.weight)"
   ]
  },
  {
   "cell_type": "markdown",
   "metadata": {},
   "source": [
    "### Make an input vector and feed it into the network"
   ]
  },
  {
   "cell_type": "code",
   "execution_count": 24,
   "metadata": {},
   "outputs": [
    {
     "name": "stdout",
     "output_type": "stream",
     "text": [
      "tensor([1., 1.])\n"
     ]
    }
   ],
   "source": [
    "x = torch.Tensor([1, 1])\n",
    "print (x)"
   ]
  },
  {
   "cell_type": "code",
   "execution_count": 25,
   "metadata": {},
   "outputs": [
    {
     "name": "stdout",
     "output_type": "stream",
     "text": [
      "tensor([0.1004, 0.8524, 0.0473], grad_fn=<SoftmaxBackward>)\n"
     ]
    }
   ],
   "source": [
    "p = net.forward(x)\n",
    "print (p)"
   ]
  },
  {
   "cell_type": "markdown",
   "metadata": {},
   "source": [
    "### Forward method can be written as follows"
   ]
  },
  {
   "cell_type": "code",
   "execution_count": 26,
   "metadata": {},
   "outputs": [
    {
     "name": "stdout",
     "output_type": "stream",
     "text": [
      "tensor([0.1004, 0.8524, 0.0473], grad_fn=<SoftmaxBackward>)\n"
     ]
    }
   ],
   "source": [
    "p = net(x)\n",
    "print (p)"
   ]
  },
  {
   "cell_type": "markdown",
   "metadata": {},
   "source": [
    "### Check the probability vector indeed sum to 1"
   ]
  },
  {
   "cell_type": "code",
   "execution_count": 27,
   "metadata": {},
   "outputs": [
    {
     "name": "stdout",
     "output_type": "stream",
     "text": [
      "tensor(1.0000, grad_fn=<SumBackward0>)\n"
     ]
    }
   ],
   "source": [
    "print (p.sum())"
   ]
  }
 ],
 "metadata": {
  "kernelspec": {
   "display_name": "Python 3",
   "language": "python",
   "name": "python3"
  },
  "language_info": {
   "codemirror_mode": {
    "name": "ipython",
    "version": 3
   },
   "file_extension": ".py",
   "mimetype": "text/x-python",
   "name": "python",
   "nbconvert_exporter": "python",
   "pygments_lexer": "ipython3",
   "version": "3.6.3"
  }
 },
 "nbformat": 4,
 "nbformat_minor": 2
}
